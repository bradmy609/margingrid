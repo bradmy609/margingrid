{
 "cells": [
  {
   "cell_type": "code",
   "execution_count": 1,
   "id": "c68041b8",
   "metadata": {},
   "outputs": [],
   "source": [
    "import requests\n",
    "import pandas as pd"
   ]
  },
  {
   "cell_type": "code",
   "execution_count": 15,
   "id": "534054f0",
   "metadata": {},
   "outputs": [],
   "source": [
    "grouped_daily = requests.get('https://api.polygon.io/v2/aggs/grouped/locale/global/market/crypto/2022-02-17?adjusted=true&apiKey=81oGdC78et6jp5itDXcGQRqkK4FtPdmX')"
   ]
  },
  {
   "cell_type": "code",
   "execution_count": 17,
   "id": "3f8fc396",
   "metadata": {},
   "outputs": [],
   "source": [
    "gd_results = grouped_daily.json()['results']\n",
    "pairs = [obj['T'].replace('X:', '') for obj in gd_results]\n",
    "all_tickers = [x[0:-3] for x in pairs]\n",
    "tickers = list(set(all_tickers))"
   ]
  },
  {
   "cell_type": "code",
   "execution_count": 4,
   "id": "aed3dcc3",
   "metadata": {},
   "outputs": [],
   "source": [
    "def get_max_data(ticker, start_date, end_date):\n",
    "    data = {}\n",
    "    data[ticker] = {}\n",
    "    try:\n",
    "        res = requests.get('https://api.polygon.io/v2/aggs/ticker/X:{ticker}USD/range/1/minute/{start_date}/{end_date}?adjusted=true&sort=asc&limit=50000&apiKey=81oGdC78et6jp5itDXcGQRqkK4FtPdmX'\n",
    "                           .format(ticker=ticker, start_date=start_date, end_date=end_date)).json()\n",
    "        res_results = res['results']\n",
    "        for key in res_results[0].keys():\n",
    "            data[ticker][key] = [x[key] for x in res_results]\n",
    "    except Exception as e:\n",
    "        print(e)\n",
    "        print(res)\n",
    "    return data"
   ]
  },
  {
   "cell_type": "code",
   "execution_count": 5,
   "id": "6efb4646",
   "metadata": {},
   "outputs": [],
   "source": [
    "def get_all_max(ticker_list, start_date, end_date):\n",
    "    lst = []\n",
    "    for ticker in ticker_list:\n",
    "        res = get_max_data(ticker, start_date, end_date)\n",
    "        lst.append(res)\n",
    "    return lst"
   ]
  },
  {
   "cell_type": "code",
   "execution_count": 323,
   "id": "69551396",
   "metadata": {},
   "outputs": [],
   "source": [
    "tickers.sort()"
   ]
  },
  {
   "cell_type": "code",
   "execution_count": 324,
   "id": "8d7feb02",
   "metadata": {},
   "outputs": [],
   "source": [
    "tickers_slice = tickers[:5]"
   ]
  },
  {
   "cell_type": "code",
   "execution_count": 326,
   "id": "653140c1",
   "metadata": {},
   "outputs": [],
   "source": [
    "top_five = ['BTC', 'ETH', '1INCH', 'AAVE', 'MATIC']"
   ]
  },
  {
   "cell_type": "code",
   "execution_count": 327,
   "id": "9d51b9e5",
   "metadata": {},
   "outputs": [],
   "source": [
    "top_lst = get_all_max(top_five)"
   ]
  },
  {
   "cell_type": "code",
   "execution_count": 6,
   "id": "a0d3bd11",
   "metadata": {},
   "outputs": [],
   "source": [
    "def build_dfs(results):\n",
    "    v, vw, o, c, l, h, t = {}, {}, {}, {}, {}, {}, []\n",
    "    index = []\n",
    "    for count, obj in enumerate(results):\n",
    "        ticker = list(obj.keys())[0]\n",
    "        for x in obj.values():\n",
    "            for key, vals in x.items():\n",
    "                if len(vals) < 50000:\n",
    "                    diff = 50000 - len(vals)\n",
    "                    vals.extend([None for x in range(diff)])\n",
    "                if key == 'v':\n",
    "                    v[ticker] = vals\n",
    "                elif key == 'vw':\n",
    "                    vw[ticker] = vals\n",
    "                elif key == 'o':\n",
    "                    o[ticker] = vals\n",
    "                elif key == 'c':\n",
    "                    c[ticker] = vals\n",
    "                elif key == 'l':\n",
    "                    l[ticker] = vals\n",
    "                elif key == 'h':\n",
    "                    h[ticker] = vals\n",
    "                elif key == 't' and len(t) == 0 and len(vals) >= 50000:\n",
    "                    t = pd.Series(vals)*1000000\n",
    "\n",
    "    index = [x for x in range(50000)]\n",
    "    dt_index = pd.DatetimeIndex(t)\n",
    "    multi_dex = pd.MultiIndex.from_tuples(zip(index, dt_index), names=['index', 'datetime'])\n",
    "\n",
    "    vdf = pd.DataFrame(v, index=multi_dex).loc[:48960]\n",
    "    vwdf = pd.DataFrame(vw, index=multi_dex).loc[:48960]\n",
    "    odf = pd.DataFrame(o, index=multi_dex).loc[:48960]\n",
    "    cdf = pd.DataFrame(c, index=multi_dex).loc[:48960]\n",
    "    hdf = pd.DataFrame(h, index=multi_dex).loc[:48960]\n",
    "    ldf = pd.DataFrame(l, index=multi_dex).loc[:48960]\n",
    "\n",
    "    dfs = {'v': vdf, 'vw': vwdf, 'o': odf, 'c': cdf, 'h': hdf, 'l': ldf}\n",
    "    return dfs"
   ]
  },
  {
   "cell_type": "code",
   "execution_count": 374,
   "id": "53170198",
   "metadata": {},
   "outputs": [],
   "source": [
    "dfs = build_dfs(top_lst)"
   ]
  },
  {
   "cell_type": "code",
   "execution_count": 379,
   "id": "0208af7c",
   "metadata": {},
   "outputs": [],
   "source": [
    "o = dfs['o']"
   ]
  },
  {
   "cell_type": "code",
   "execution_count": 384,
   "id": "e99c12bd",
   "metadata": {},
   "outputs": [
    {
     "data": {
      "text/plain": [
       "BTC         0\n",
       "ETH         0\n",
       "1INCH    5242\n",
       "AAVE        0\n",
       "MATIC       0\n",
       "dtype: int64"
      ]
     },
     "execution_count": 384,
     "metadata": {},
     "output_type": "execute_result"
    }
   ],
   "source": [
    "o.isna().sum()"
   ]
  },
  {
   "cell_type": "code",
   "execution_count": 391,
   "id": "a6dd1c9c",
   "metadata": {},
   "outputs": [
    {
     "data": {
      "text/plain": [
       "index  datetime           \n",
       "43719  2021-12-22 08:39:00   NaN\n",
       "43720  2021-12-22 08:40:00   NaN\n",
       "43721  2021-12-22 08:41:00   NaN\n",
       "43722  2021-12-22 08:42:00   NaN\n",
       "43723  2021-12-22 08:43:00   NaN\n",
       "                              ..\n",
       "48956  2021-12-26 23:56:00   NaN\n",
       "48957  2021-12-26 23:57:00   NaN\n",
       "48958  2021-12-26 23:58:00   NaN\n",
       "48959  2021-12-26 23:59:00   NaN\n",
       "48960  2021-12-27 00:00:00   NaN\n",
       "Name: 1INCH, Length: 5242, dtype: float64"
      ]
     },
     "execution_count": 391,
     "metadata": {},
     "output_type": "execute_result"
    }
   ],
   "source": [
    "o.loc[len(o)-5242:, '1INCH']"
   ]
  },
  {
   "cell_type": "code",
   "execution_count": 32,
   "id": "b4ad67b1",
   "metadata": {},
   "outputs": [],
   "source": [
    "inch_dec = get_all_max(['1INCH'], '2021-12-22', '2022-02-05')"
   ]
  },
  {
   "cell_type": "code",
   "execution_count": 33,
   "id": "f2ca9a29",
   "metadata": {},
   "outputs": [],
   "source": [
    "inch_dfs = build_dfs(inch_dec)"
   ]
  },
  {
   "cell_type": "code",
   "execution_count": 34,
   "id": "a756675f",
   "metadata": {},
   "outputs": [],
   "source": [
    "inch_o = inch_dfs['o']"
   ]
  },
  {
   "cell_type": "code",
   "execution_count": 35,
   "id": "772059a1",
   "metadata": {},
   "outputs": [
    {
     "data": {
      "text/plain": [
       "1INCH    1155\n",
       "dtype: int64"
      ]
     },
     "execution_count": 35,
     "metadata": {},
     "output_type": "execute_result"
    }
   ],
   "source": [
    "inch_o.isna().sum()"
   ]
  },
  {
   "cell_type": "code",
   "execution_count": 36,
   "id": "d0b6ba1c",
   "metadata": {},
   "outputs": [
    {
     "data": {
      "text/html": [
       "<div>\n",
       "<style scoped>\n",
       "    .dataframe tbody tr th:only-of-type {\n",
       "        vertical-align: middle;\n",
       "    }\n",
       "\n",
       "    .dataframe tbody tr th {\n",
       "        vertical-align: top;\n",
       "    }\n",
       "\n",
       "    .dataframe thead th {\n",
       "        text-align: right;\n",
       "    }\n",
       "</style>\n",
       "<table border=\"1\" class=\"dataframe\">\n",
       "  <thead>\n",
       "    <tr style=\"text-align: right;\">\n",
       "      <th></th>\n",
       "      <th></th>\n",
       "      <th>1INCH</th>\n",
       "    </tr>\n",
       "    <tr>\n",
       "      <th>index</th>\n",
       "      <th>datetime</th>\n",
       "      <th></th>\n",
       "    </tr>\n",
       "  </thead>\n",
       "  <tbody>\n",
       "    <tr>\n",
       "      <th>0</th>\n",
       "      <th>2021-12-22 00:00:00</th>\n",
       "      <td>2.44</td>\n",
       "    </tr>\n",
       "    <tr>\n",
       "      <th>1</th>\n",
       "      <th>2021-12-22 00:02:00</th>\n",
       "      <td>2.44</td>\n",
       "    </tr>\n",
       "    <tr>\n",
       "      <th>2</th>\n",
       "      <th>2021-12-22 00:03:00</th>\n",
       "      <td>2.44</td>\n",
       "    </tr>\n",
       "    <tr>\n",
       "      <th>3</th>\n",
       "      <th>2021-12-22 00:04:00</th>\n",
       "      <td>2.44</td>\n",
       "    </tr>\n",
       "    <tr>\n",
       "      <th>4</th>\n",
       "      <th>2021-12-22 00:06:00</th>\n",
       "      <td>2.45</td>\n",
       "    </tr>\n",
       "    <tr>\n",
       "      <th>...</th>\n",
       "      <th>...</th>\n",
       "      <td>...</td>\n",
       "    </tr>\n",
       "    <tr>\n",
       "      <th>47801</th>\n",
       "      <th>2022-02-05 23:47:00</th>\n",
       "      <td>1.79</td>\n",
       "    </tr>\n",
       "    <tr>\n",
       "      <th>47802</th>\n",
       "      <th>2022-02-05 23:51:00</th>\n",
       "      <td>1.79</td>\n",
       "    </tr>\n",
       "    <tr>\n",
       "      <th>47803</th>\n",
       "      <th>2022-02-05 23:55:00</th>\n",
       "      <td>1.79</td>\n",
       "    </tr>\n",
       "    <tr>\n",
       "      <th>47804</th>\n",
       "      <th>2022-02-05 23:57:00</th>\n",
       "      <td>1.78</td>\n",
       "    </tr>\n",
       "    <tr>\n",
       "      <th>47805</th>\n",
       "      <th>2022-02-05 23:58:00</th>\n",
       "      <td>1.79</td>\n",
       "    </tr>\n",
       "  </tbody>\n",
       "</table>\n",
       "<p>47806 rows × 1 columns</p>\n",
       "</div>"
      ],
      "text/plain": [
       "                           1INCH\n",
       "index datetime                  \n",
       "0     2021-12-22 00:00:00   2.44\n",
       "1     2021-12-22 00:02:00   2.44\n",
       "2     2021-12-22 00:03:00   2.44\n",
       "3     2021-12-22 00:04:00   2.44\n",
       "4     2021-12-22 00:06:00   2.45\n",
       "...                          ...\n",
       "47801 2022-02-05 23:47:00   1.79\n",
       "47802 2022-02-05 23:51:00   1.79\n",
       "47803 2022-02-05 23:55:00   1.79\n",
       "47804 2022-02-05 23:57:00   1.78\n",
       "47805 2022-02-05 23:58:00   1.79\n",
       "\n",
       "[47806 rows x 1 columns]"
      ]
     },
     "execution_count": 36,
     "metadata": {},
     "output_type": "execute_result"
    }
   ],
   "source": [
    "inch_o.dropna()"
   ]
  },
  {
   "cell_type": "code",
   "execution_count": null,
   "id": "af194f74",
   "metadata": {},
   "outputs": [],
   "source": []
  }
 ],
 "metadata": {
  "kernelspec": {
   "display_name": "Python 3",
   "language": "python",
   "name": "python3"
  },
  "language_info": {
   "codemirror_mode": {
    "name": "ipython",
    "version": 3
   },
   "file_extension": ".py",
   "mimetype": "text/x-python",
   "name": "python",
   "nbconvert_exporter": "python",
   "pygments_lexer": "ipython3",
   "version": "3.8.11"
  }
 },
 "nbformat": 4,
 "nbformat_minor": 5
}
